{
 "cells": [
  {
   "cell_type": "code",
   "execution_count": 1,
   "metadata": {
    "collapsed": true
   },
   "outputs": [],
   "source": [
    "import numpy as np\n",
    "import pandas as pd"
   ]
  },
  {
   "cell_type": "code",
   "execution_count": 2,
   "metadata": {
    "collapsed": true
   },
   "outputs": [],
   "source": [
    "complete = pd.read_excel('C:/Users/Owner/Documents/School/CMPT898/Field Data AGILE DataCollection 2016 Field Trials Nepal_03.07..2017.xlsx', sheetname='Measurements')\n",
    "seed_weight = pd.read_excel('C:/Users/Owner/Documents/School/CMPT898/170621-1000sdwt (2016 set up).xlsx')"
   ]
  },
  {
   "cell_type": "code",
   "execution_count": 3,
   "metadata": {
    "collapsed": true
   },
   "outputs": [],
   "source": [
    "# Manually input climate data from the nepalese government website\n",
    "# Starting from 2016-11-14 and going to 2016-12-21\n",
    "GDD = np.array([11.75, 11.1, 11.45, 11.55, 12.3, 12.4, 12.5, 13.0, 13.45, 12.4, 12.0, 12.05, 11.8, 11.45, 11.5, 11.9, 12.05, 12.75, 12.15, 11.6, 11.5, 11.1, 10.35, 10.6, 10.05, 10.55, \n",
    "               10.7, 10.45, 9.95, 8.4, 8.6, 9.4, 9.2, 10.15, 9.35, 8.85, 9.0, 9.1]).cumsum()\n",
    "precip = np.zeros(38)\n",
    "precip[-4] = 4\n",
    "precip = precip.cumsum()\n",
    "daylength = np.array([12.78, 12.78, 12.77, 12.73, 12.72, 12.7, 12.68, 12.67, 12.65, 12.62, 12.62, 12.6, 12.58, 12.57, 12.57, 12.55, 12.53, 12.52, 12.52, 12.5, 12.48, 12.47, 12.47, \n",
    "                     12.45, 12.43, 12.43, 12.43, 12.42, 12.42, 12.42, 12.4, 12.4, 12.4, 12.4, 12.38, 12.38, 12.38, 12.38])"
   ]
  },
  {
   "cell_type": "code",
   "execution_count": 4,
   "metadata": {
    "collapsed": true,
    "scrolled": true
   },
   "outputs": [],
   "source": [
    "# Get an array of stack indexes from the plant dates, with the data sorted by entry\n",
    "stack_idx = (complete.sort_values('entry')['Planting Date\\n(date)'] > pd.datetime(2016, 11, 14)).values.astype(float) + (complete.sort_values('entry')['Planting Date\\n(date)'] > pd.datetime(2016, 11, 15)).values.astype(float) + (complete.sort_values('entry')['Planting Date\\n(date)'] > pd.datetime(2016, 11, 16)).values.astype(float)\n",
    "# Use the index to create an array of values to remove from the cumulative sum if planted later than the 14th\n",
    "GDD_adj = np.array(stack_idx)\n",
    "GDD_adj[GDD_adj == 1] = GDD[0]\n",
    "GDD_adj[GDD_adj == 2] = GDD[0] + GDD[1]\n",
    "GDD_adj[GDD_adj == 3] = GDD[0] + GDD[1] + GDD[2]\n",
    "\n",
    "# Precipitation requires no adjustment because the first three terms are 0"
   ]
  },
  {
   "cell_type": "code",
   "execution_count": 5,
   "metadata": {
    "collapsed": true
   },
   "outputs": [],
   "source": [
    "# Get the correct GDD. Everything is synced to 14th start date, so add extra days on the end and subtract days from the beginning using the adjustment array \n",
    "data = pd.DataFrame()\n",
    "data = data.assign(Entry = complete.sort_values('entry')['entry'])\n",
    "data = data.assign(Line = complete.sort_values('entry')['Name'])\n",
    "# Convert spaces in line names to dashes \n",
    "data['Line'] = data['Line'].replace(' ', '-', regex = True)\n",
    "data = data.assign(DTE = complete.sort_values('entry')['Days to Emergence\\n(days)'])\n",
    "data = data.assign(GDD = GDD[complete.sort_values('entry')['Days to Emergence\\n(days)'].values + stack_idx.astype(int)] - GDD_adj)\n",
    "data = data.assign(precip = precip[complete.sort_values('entry')['Days to Emergence\\n(days)'].values + stack_idx.astype(int)])\n",
    "data = data.assign(Seedwt = seed_weight['1000 Sdwt'][complete.sort_values('entry')['entry'].values.astype(int) - 1].values)\n",
    "data = data.assign(Day = daylength[((complete.sort_values('entry')['Days to Emergence\\n(days)'] + stack_idx).values / 2).astype(int)])\n",
    "data = data.assign(Location = 'Nepal')\n",
    "data = data.assign(Year = '2016')\n",
    "data.columns = ['Entry', 'Line', 'DTE', 'GDD [C]', 'Precipitation [mm]', 'Seed 1000wt [g]', 'Day Length [hr]', 'Location', 'Year']"
   ]
  },
  {
   "cell_type": "code",
   "execution_count": 8,
   "metadata": {
    "collapsed": true
   },
   "outputs": [],
   "source": [
    "data.to_csv('Nepal Climate Data 2016.csv', index = False)"
   ]
  },
  {
   "cell_type": "code",
   "execution_count": null,
   "metadata": {
    "collapsed": true
   },
   "outputs": [],
   "source": []
  }
 ],
 "metadata": {
  "kernelspec": {
   "display_name": "Python 3",
   "language": "python",
   "name": "python3"
  },
  "language_info": {
   "codemirror_mode": {
    "name": "ipython",
    "version": 3
   },
   "file_extension": ".py",
   "mimetype": "text/x-python",
   "name": "python",
   "nbconvert_exporter": "python",
   "pygments_lexer": "ipython3",
   "version": "3.6.1"
  }
 },
 "nbformat": 4,
 "nbformat_minor": 2
}
