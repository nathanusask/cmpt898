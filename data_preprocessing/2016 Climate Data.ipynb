{
 "cells": [
  {
   "cell_type": "code",
   "execution_count": 1,
   "metadata": {
    "collapsed": true
   },
   "outputs": [],
   "source": [
    "import numpy as np\n",
    "import pandas as pd\n",
    "from datetime import timedelta\n",
    "r_filepath = 'C:/Users/Owner/Documents/School/CMPT898/AGILE_2016_Rosthern_RawData.xlsx'\n",
    "s_filepath = 'C:/Users/Owner/Documents/School/CMPT898/AGILE_2016_Sutherland_RawData.xlsx'"
   ]
  },
  {
   "cell_type": "code",
   "execution_count": 2,
   "metadata": {
    "collapsed": true
   },
   "outputs": [],
   "source": [
    "# Rosthern import and rearrangement of data\n",
    "# Import everything as a pandas dataframe, and split it into individual dataframes\n",
    "# Drop any 'non-numerical' data like device specifications\n",
    "# Create titles for dataframes\n",
    "\n",
    "# When data is called, use the dataframe name with .values to convert to numpy array\n",
    "# This may not be the smartest thing to do, but it's what was done\n",
    "r_comp = pd.read_excel(r_filepath, sheetname = [1,2,4,5,6,7,8,9,10,11,12])\n",
    "r_measurements = r_comp[1]\n",
    "r_measurements = r_measurements.dropna(subset=['Days To Emergence'])\n",
    "r_rain = r_comp[2]\n",
    "r_rain.columns = ['Date', 'Precip (cm)', 'drop']\n",
    "r_rain = r_rain.drop('drop', axis = 1)\n",
    "r_rain.Date = pd.to_datetime(r_rain.Date, dayfirst = True)\n",
    "r_1H = r_comp[4]\n",
    "r_1H.columns = ['Datetime', 'drop', 'RH (%)']\n",
    "r_1H = r_1H.drop('drop', axis = 1).drop(range(19))\n",
    "r_1H.Datetime = pd.to_datetime(r_1H.Datetime)\n",
    "r_1T = r_comp[5]\n",
    "r_1T.columns = ['Datetime', 'drop', 'Temp (C)']\n",
    "r_1T = r_1T.drop('drop', axis =1).drop(range(19))\n",
    "r_1T.Datetime = pd.to_datetime(r_1T.Datetime)\n",
    "r_2T = r_comp[6]\n",
    "r_2T.columns = ['Datetime', 'drop', 'Temp (C)']\n",
    "r_2T = r_2T.drop('drop', axis =1).drop(range(19))\n",
    "r_2T.Datetime = pd.to_datetime(r_2T.Datetime)\n",
    "r_3H = r_comp[7]\n",
    "r_3H.columns = ['Datetime', 'drop', 'RH (%)']\n",
    "r_3H = r_3H.drop('drop', axis = 1).drop(range(19))\n",
    "r_3H.Datetime = pd.to_datetime(r_3H.Datetime)\n",
    "r_3T = r_comp[8]\n",
    "r_3T.columns = ['Datetime', 'drop', 'Temp (C)']\n",
    "r_3T = r_3T.drop('drop', axis =1).drop(range(19))\n",
    "r_3T.Datetime = pd.to_datetime(r_3T.Datetime)\n",
    "r_olddatalogger = r_comp[9]\n",
    "r_olddatalogger.columns = ['drop','Datetime','Temp (F)','RH (%)','drop','drop','drop','drop','drop']\n",
    "r_olddatalogger = r_olddatalogger.drop('drop', axis = 1).drop(0).dropna(axis = 0)\n",
    "r_olddatalogger.Datetime = pd.to_datetime(r_olddatalogger.Datetime)\n",
    "r_daylength = r_comp[10]\n",
    "r_daylength.columns = ['Date', 'Sunrise', 'Sunset', 'DayLength']\n",
    "r_daylength.Date = pd.to_datetime(r_daylength.Date, dayfirst = True)\n",
    "r_IbuttonH = r_comp[11]\n",
    "r_IbuttonH.columns = ['Date', 'Avg_1', 'Avg_2', 'Avg_Total']\n",
    "r_IbuttonT = r_comp[12]\n",
    "r_IbuttonT.columns = ['Date', 'Avg_1', 'Avg_2', 'Avg_3', 'Avg_Total']"
   ]
  },
  {
   "cell_type": "code",
   "execution_count": 3,
   "metadata": {
    "collapsed": true
   },
   "outputs": [],
   "source": [
    "# Sutherland import and rearrangement of data\n",
    "# Import everything as a pandas database, minimizing read calls\n",
    "# Drop any 'non-numerical' data like device specifications\n",
    "# Create titles for dataframes\n",
    "\n",
    "# When data is called, use the dataframe name with .values to convert to numpy array\n",
    "# This may not be the smartest thing to do, but it's what was done\n",
    "s_comp = pd.read_excel(s_filepath, sheetname = [1,2,4,5,6,7,8,9,10,11,12,13])\n",
    "s_measurements = s_comp[1]\n",
    "s_measurements = s_measurements.dropna(subset = ['Days To Emergence'])\n",
    "s_rain = s_comp[2].drop('cm', axis = 1)\n",
    "s_rain.columns = ['Date', 'Precip (cm)']\n",
    "s_rain.Date = pd.to_datetime(s_rain.Date, dayfirst = True)\n",
    "# This one is special because the date and time are split and needs to be merged\n",
    "s_1H = pd.read_excel(s_filepath, sheetname = 4, header = 19)\n",
    "s_1H['Date'] = s_1H['Date'].astype(str) + ' ' + s_1H['Hrs'].astype(str)\n",
    "s_1H.columns = ['Datetime', 'drop', 'drop', 'RH (%)']\n",
    "s_1H = s_1H.drop('drop', axis = 1)\n",
    "s_1H.Datetime = pd.to_datetime(s_1H.Datetime)\n",
    "s_1T = s_comp[5]\n",
    "s_1T.columns = ['Datetime', 'drop', 'Temp (C)']\n",
    "s_1T = s_1T.drop('drop', axis =1).drop(range(19))\n",
    "s_1T.Datetime = pd.to_datetime(s_1T.Datetime)\n",
    "s_2H = s_comp[6]\n",
    "s_2H.columns = ['Datetime', 'drop', 'RH (%)']\n",
    "s_2H = s_2H.drop('drop', axis = 1).drop(range(19))\n",
    "s_2H.Datetime = pd.to_datetime(s_2H.Datetime)\n",
    "s_2T = s_comp[7]\n",
    "s_2T.columns = ['Datetime', 'drop', 'Temp (C)']\n",
    "s_2T = s_2T.drop('drop', axis =1).drop(range(19))\n",
    "s_2T.Datetime = pd.to_datetime(s_2T.Datetime)\n",
    "s_3H = s_comp[8]\n",
    "s_3H.columns = ['Datetime', 'drop', 'RH (%)']\n",
    "s_3H = s_3H.drop('drop', axis = 1).drop(range(19))\n",
    "s_3H.Datetime = pd.to_datetime(s_3H.Datetime)\n",
    "s_3T = s_comp[9]\n",
    "s_3T.columns = ['Datetime', 'drop', 'Temp (C)']\n",
    "s_3T = s_3T.drop('drop', axis =1).drop(range(19))\n",
    "s_3T.Datetime = pd.to_datetime(s_3T.Datetime)\n",
    "s_olddatalogger = s_comp[10]\n",
    "s_olddatalogger.columns = ['drop','Datetime','Temp (F)','RH (%)','drop','drop','drop','drop']\n",
    "s_olddatalogger = s_olddatalogger.drop('drop', axis = 1).drop(0).dropna(axis = 0)\n",
    "s_olddatalogger = s_olddatalogger[:-1]\n",
    "s_olddatalogger.Datetime = pd.to_datetime(s_olddatalogger.Datetime)\n",
    "s_daylength = s_comp[11]\n",
    "s_daylength.columns = ['Date', 'Sunrise', 'Sunset', 'DayLength']\n",
    "s_daylength.Date = pd.to_datetime(s_daylength.Date, dayfirst = True)\n",
    "s_IbuttonT = s_comp[12]\n",
    "s_IbuttonT.columns = ['Date', 'Avg_1', 'Avg_2', 'Avg_3', 'Avg_Total']\n",
    "s_IbuttonH = s_comp[13]\n",
    "s_IbuttonH.columns = ['Date', 'Avg_1', 'Avg_2', 'Avg_3', 'Avg_Total']"
   ]
  },
  {
   "cell_type": "code",
   "execution_count": 4,
   "metadata": {
    "collapsed": true
   },
   "outputs": [],
   "source": [
    "seed_weight = pd.read_excel('C:/Users/Owner/Documents/School/CMPT898/170621-1000sdwt (2016 set up).xlsx')"
   ]
  },
  {
   "cell_type": "code",
   "execution_count": 5,
   "metadata": {
    "collapsed": true
   },
   "outputs": [],
   "source": [
    "# What are the dates in question?\n",
    "# plant date in datetime\n",
    "s_plant_date = s_measurements['Planting Date'][0]\n",
    "r_plant_date = r_measurements['Planting Date'][0]\n",
    "# days to emerge from planting as numbers\n",
    "s_days_to_emerge = np.unique(s_measurements['Days To Emergence'].values)\n",
    "r_days_to_emerge = np.unique(r_measurements['Days To Emergence'].values)\n",
    "# add one to last day to get everything the day of as well\n",
    "s_last_day_idx = s_plant_date + timedelta(days = np.max(s_days_to_emerge) + 1)\n",
    "r_last_day_idx = r_plant_date + timedelta(days = np.max(r_days_to_emerge) + 1)"
   ]
  },
  {
   "cell_type": "code",
   "execution_count": 6,
   "metadata": {
    "collapsed": true
   },
   "outputs": [],
   "source": [
    "# Cut out all data after emergence date\n",
    "# Has to be done on a per dataset basis\n",
    "r_rain = r_rain[r_rain.values[:,0] < r_last_day_idx]\n",
    "r_1H = r_1H[r_1H.values[:,0] < r_last_day_idx]\n",
    "r_1T = r_1T[r_1T.values[:,0] < r_last_day_idx]\n",
    "r_2T = r_2T[r_2T.values[:,0] < r_last_day_idx]\n",
    "r_3H = r_3H[r_3H.values[:,0] < r_last_day_idx]\n",
    "r_3T = r_3T[r_3T.values[:,0] < r_last_day_idx]\n",
    "r_olddatalogger = r_olddatalogger[r_olddatalogger.values[:,0] < r_last_day_idx]\n",
    "r_daylength = r_daylength[r_daylength.values[:,0] < r_last_day_idx]\n",
    "r_IbuttonH = r_IbuttonH[r_IbuttonH.values[:,0] < r_last_day_idx]\n",
    "r_IbuttonT = r_IbuttonT[r_IbuttonT.values[:,0] < r_last_day_idx]\n",
    "\n",
    "s_rain = s_rain[s_rain.values[:,0] < s_last_day_idx]\n",
    "s_1H = s_1H[s_1H.values[:,0] < s_last_day_idx]\n",
    "s_1T = s_1T[s_1T.values[:,0] < s_last_day_idx]\n",
    "s_2H = s_2H[s_2H.values[:,0] < s_last_day_idx]\n",
    "s_2T = s_2T[s_2T.values[:,0] < s_last_day_idx]\n",
    "s_3H = s_3H[s_3H.values[:,0] < s_last_day_idx]\n",
    "s_3T = s_3T[s_3T.values[:,0] < s_last_day_idx]\n",
    "s_olddatalogger = s_olddatalogger[s_olddatalogger.values[:,0] < s_last_day_idx]\n",
    "s_daylength = s_daylength[s_daylength.values[:,0] < s_last_day_idx]\n",
    "s_IbuttonH = s_IbuttonH[s_IbuttonH.values[:,0] < s_last_day_idx]\n",
    "s_IbuttonT = s_IbuttonT[s_IbuttonT.values[:,0] < s_last_day_idx]"
   ]
  },
  {
   "cell_type": "code",
   "execution_count": 7,
   "metadata": {
    "collapsed": true
   },
   "outputs": [],
   "source": [
    "#Insert temperature data from environment canada, cover between plant date and sensor start up\n",
    "r_GDD = (np.insert(r_IbuttonT['Avg_Total'].values - 5, 0, [10.9, 9.85, 16.25, 5, 0.8, 0.]).clip(min = 0)).cumsum()\n",
    "s_GDD = (np.insert(s_IbuttonT['Avg_Total'].values - 5, 0, [3.3, 4.05]).clip(min = 0)).cumsum()"
   ]
  },
  {
   "cell_type": "code",
   "execution_count": 8,
   "metadata": {
    "collapsed": true
   },
   "outputs": [],
   "source": [
    "# pad daylengths to meet first day of planting, since we use a median the value doesn't matter\n",
    "s_day = np.pad(s_daylength['DayLength'].values, (6,0), 'constant', constant_values = 0)\n",
    "r_day = np.pad(r_daylength['DayLength'].values, (2,0), 'constant', constant_values = 0)"
   ]
  },
  {
   "cell_type": "code",
   "execution_count": 9,
   "metadata": {
    "collapsed": true
   },
   "outputs": [],
   "source": [
    "# Add precipitation, data from environment canada Saskatoon RCS station\n",
    "r_precip = np.array([0, 0, 0, 4.7, 15.5, 0.7, 0, 0, 0, 0, 0, 0, 0, 0, 0, 2.8, 0.4, 3.0, 4.7, 0, 0, 3.2, 6.4, 0.2, 0, 0, 0, 0]).cumsum()\n",
    "s_precip = np.array([0, 0, 0, 0, 0, 0, 0, 0, 0, 0, 0, 0, 4.7, 15.5, 0.7, 0, 0, 0, 0, 0, 0, 0, 0, 0, 2.8, 0.4, 3.0, 4.7, 0, 0, 3.2, 6.4, 0.2, 0, 0, 0, 0]).cumsum()"
   ]
  },
  {
   "cell_type": "code",
   "execution_count": 10,
   "metadata": {
    "collapsed": true,
    "scrolled": false
   },
   "outputs": [],
   "source": [
    "# Make a nice table of data for machine learning\n",
    "s_data = pd.DataFrame()\n",
    "s_data = s_data.assign(Entry = s_measurements.sort_values('Entry')['Entry'].values.astype(int))\n",
    "s_data = s_data.assign(Line = s_measurements.sort_values('Entry')['Name'].values)\n",
    "# Change the blank spaces in the line name into dashes\n",
    "s_data['Line'] = s_data['Line'].replace(' ', '-', regex = True)\n",
    "s_data = s_data.assign(DTE = s_measurements.sort_values('Entry')['Days To Emergence'].values.astype(int))\n",
    "s_data = s_data.assign(GDD = s_GDD[s_measurements.sort_values('Entry')['Days To Emergence'].values.astype(int)])\n",
    "s_data = s_data.assign(Precipitation = s_precip[s_measurements.sort_values('Entry')['Days To Emergence'].values.astype(int)])\n",
    "s_data = s_data.assign(Seedwt = seed_weight['1000 Sdwt'][s_measurements.sort_values('Entry')['Entry'].values.astype(int) - 1].values)\n",
    "s_data = s_data.assign(Day = s_day[(s_measurements.sort_values('Entry')['Days To Emergence'].values/2).astype(int)])\n",
    "s_data = s_data.assign(Location = 'Sutherland')\n",
    "s_data = s_data.assign(Year = '2016')\n",
    "s_data.columns = ['Entry', 'Line', 'DTE', 'GDD [C]', 'Precipitation [mm]', 'Seed 1000wt [g]', 'Day Length [hr]', 'Location', 'Year']"
   ]
  },
  {
   "cell_type": "code",
   "execution_count": 11,
   "metadata": {
    "collapsed": true
   },
   "outputs": [],
   "source": [
    "r_data = pd.DataFrame()\n",
    "r_data = r_data.assign(Entry = r_measurements.sort_values('Entry')['Entry'].values.astype(int))\n",
    "r_data = r_data.assign(Line = r_measurements.sort_values('Entry')['Name'].values)\n",
    "# Change the blank spaces in the line name into dashes\n",
    "r_data['Line'] = r_data['Line'].replace(' ', '-', regex = True)\n",
    "r_data = r_data.assign(DTE = r_measurements.sort_values('Entry')['Days To Emergence'].values.astype(int))\n",
    "r_data = r_data.assign(GDD = r_GDD[r_measurements.sort_values('Entry')['Days To Emergence'].values.astype(int)])\n",
    "r_data = r_data.assign(Precip = r_precip[r_measurements.sort_values('Entry')['Days To Emergence'].values.astype(int)])\n",
    "r_data = r_data.assign(Seedwt = seed_weight['1000 Sdwt'][r_measurements.sort_values('Entry')['Entry'].values.astype(int) - 1].values)\n",
    "r_data = r_data.assign(Day = r_day[(r_measurements.sort_values('Entry')['Days To Emergence'].values/2).astype(int)])\n",
    "r_data = r_data.assign(Location = 'Rosthern')\n",
    "r_data = r_data.assign(Year = '2016')\n",
    "r_data.columns = ['Entry', 'Line', 'DTE', 'GDD [C]', 'Precipitation [mm]', 'Seed 1000wt [g]', 'Day Length [hr]', 'Location', 'Year']"
   ]
  },
  {
   "cell_type": "code",
   "execution_count": 12,
   "metadata": {
    "collapsed": true
   },
   "outputs": [],
   "source": [
    "# Save to csv file\n",
    "s_data.to_csv('Sutherland Climate Data 2016.csv', index = False)\n",
    "r_data.to_csv('Rosthern Climate Data 2016.csv', index = False)"
   ]
  },
  {
   "cell_type": "code",
   "execution_count": null,
   "metadata": {
    "collapsed": true
   },
   "outputs": [],
   "source": []
  }
 ],
 "metadata": {
  "kernelspec": {
   "display_name": "Python 3",
   "language": "python",
   "name": "python3"
  },
  "language_info": {
   "codemirror_mode": {
    "name": "ipython",
    "version": 3
   },
   "file_extension": ".py",
   "mimetype": "text/x-python",
   "name": "python",
   "nbconvert_exporter": "python",
   "pygments_lexer": "ipython3",
   "version": "3.6.1"
  }
 },
 "nbformat": 4,
 "nbformat_minor": 2
}
